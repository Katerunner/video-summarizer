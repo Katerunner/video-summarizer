{
 "cells": [
  {
   "cell_type": "code",
   "execution_count": 56,
   "id": "22879f4a-7b94-4c22-87a4-2b9ca2532642",
   "metadata": {},
   "outputs": [],
   "source": [
    "import re\n",
    "import json\n",
    "import requests\n",
    "from openai import OpenAI\n",
    "from bs4 import BeautifulSoup\n",
    "from datetime import datetime, timedelta\n",
    "from youtube_transcript_api import YouTubeTranscriptApi"
   ]
  },
  {
   "cell_type": "code",
   "execution_count": 57,
   "id": "ecad3252-a73e-462a-b9a0-e9bff38fc021",
   "metadata": {},
   "outputs": [],
   "source": [
    "class Video:\n",
    "    def __init__(self, id, title, published):\n",
    "        self.id = id\n",
    "        self.title = title\n",
    "        self.published_text = published\n",
    "        published = self.parse_date(published)\n",
    "        self.published = published\n",
    "\n",
    "    @staticmethod\n",
    "    def parse_date(published):\n",
    "        # Dictionary to map Ukrainian time unit keywords to timedelta arguments\n",
    "        time_units = {\n",
    "            'сек': 'seconds',\n",
    "            'хв': 'minutes',\n",
    "            'год': 'hours',\n",
    "            'дн': 'days',\n",
    "            'тижн': 'weeks',\n",
    "            'місяц': 'months',\n",
    "            'р': 'years'\n",
    "        }\n",
    "\n",
    "        # Current time\n",
    "        now = datetime.now()\n",
    "\n",
    "        # Search for number and unit in the string\n",
    "        match = re.search(r'(\\d*)\\s*(\\w+)', published)\n",
    "        if match:\n",
    "            number, unit = match.groups()\n",
    "\n",
    "            # Default to 1 if no number is found\n",
    "            number = int(number) if number else 1\n",
    "\n",
    "            # Find the correct time unit\n",
    "            for key, value in time_units.items():\n",
    "                if key in unit:\n",
    "                    # Special handling for months and years as timedelta does not support them directly\n",
    "                    if value == 'months':\n",
    "                        return now - timedelta(days=30 * number)\n",
    "                    elif value == 'years':\n",
    "                        return now - timedelta(days=365 * number)\n",
    "                    else:\n",
    "                        return now - timedelta(**{value: number})\n",
    "\n",
    "        # If no match, return current time (or handle as appropriate)\n",
    "        return now"
   ]
  },
  {
   "cell_type": "code",
   "execution_count": 58,
   "id": "b918aa59-7c11-436c-8003-41f4a16d3b2c",
   "metadata": {},
   "outputs": [],
   "source": [
    "class Channel:\n",
    "    def __init__(self, url, title=None, videos=None):\n",
    "        self.url = url\n",
    "        self.title = title\n",
    "        self.videos = videos"
   ]
  },
  {
   "cell_type": "code",
   "execution_count": 71,
   "id": "3fdf15af-b348-4cc3-a1e7-78cbbb57cdf5",
   "metadata": {},
   "outputs": [],
   "source": [
    "class YoutubeChannelParser:\n",
    "    videos_string_template = '\"canonicalBaseUrl\":\"/@\"}},\"title\":\"Відео\",\"selected\":true,\"content\":{\"richGridRenderer\":{\"contents\":'.split(\"@\")\n",
    "    allowed_languages = [\"uk\"]\n",
    "    \n",
    "    def __init__(self, canonical_name, soup=None):\n",
    "        canonical_name = canonical_name.replace(\"@\", \"\")\n",
    "        self.name = canonical_name\n",
    "        self.curl = f\"https://www.youtube.com/@{self.name}/videos\"\n",
    "        self.soup = soup\n",
    "        self.vstx = self.videos_string_template[0] + f\"@{self.name}\" + self.videos_string_template[1]\n",
    "        \n",
    "\n",
    "    def parse(self):\n",
    "        response = requests.get(self.curl)\n",
    "        self.soup = BeautifulSoup(response.content, 'html.parser')\n",
    "        chanel_title = self.soup.body.find(\"title\").text\n",
    "        chanel_videos = self.find_front_page_videos()\n",
    "        return Channel(self.curl, chanel_title, chanel_videos)\n",
    "\n",
    "    def find_front_page_videos(self):\n",
    "        start_index = str(self.soup).find(self.vstx)\n",
    "        started_text = str(self.soup)[start_index + len(self.vstx):]\n",
    "        end_index = start_index + 1\n",
    "        \n",
    "        stack = []\n",
    "        for i in range(len(started_text)):\n",
    "            char = started_text[i]\n",
    "            if char == \"[\": \n",
    "                stack.append(1)\n",
    "            if char == \"]\": \n",
    "                stack.pop()\n",
    "            if len(stack) < 1:\n",
    "                end_index = i\n",
    "                break\n",
    "                \n",
    "        data = json.loads(started_text[:end_index+1])\n",
    "\n",
    "        videos = []\n",
    "        for i in range(len(data) - 1):\n",
    "            video_data = data[i]['richItemRenderer']['content']['videoRenderer']\n",
    "            title = video_data['title']['runs'][0]['text']\n",
    "            published = video_data['publishedTimeText']['simpleText']\n",
    "            video_id = video_data['videoId']\n",
    "            videos.append(Video(video_id, title, published))\n",
    "\n",
    "        return videos"
   ]
  },
  {
   "cell_type": "code",
   "execution_count": 68,
   "id": "bcdf6143-e287-431f-a3b0-600399f596e0",
   "metadata": {},
   "outputs": [],
   "source": [
    "class VideoTranscript:\n",
    "    def __init__(self, video):\n",
    "        self.video = video\n",
    "\n",
    "    def get_transcript(self):\n",
    "        video_transcript = YouTubeTranscriptApi.get_transcript(video.id, languages=['uk', 'ru', 'en'])\n",
    "        video_text = \" \".join([chunk['text'] for chunk in video_transcript])\n",
    "        return  video_text"
   ]
  },
  {
   "cell_type": "code",
   "execution_count": 73,
   "id": "660035ae-bcaf-4975-87f2-b5089db1536e",
   "metadata": {},
   "outputs": [],
   "source": [
    "class TranscriptSummarizer:\n",
    "    def __init__(self, video, transcript, summary=None):\n",
    "        self.video = video\n",
    "        self.transcript = transcript\n",
    "        self.summary = summary\n",
    "        self.client = OpenAI()\n",
    "        self.role_prompt = \\\n",
    "        f\"\"\"\n",
    "        You are a transcript summarizer that receives the transcript text and return the summary in up to 8 sentences.\n",
    "        The video is called: \"{self.video.title}\"\n",
    "        Summary must be precise and follow the key points of the video. You output only the summary!\n",
    "        Summary should be in English. The audience for your summary is Ukrainian people. Keep in mind that \n",
    "        transcript does not have punctuation, so please, use common sense to separate sentences. Transcript is\n",
    "        auto-generated, so some of the words may be incorrect, use common sense to derive the correct information\n",
    "        \"\"\"\n",
    "\n",
    "    def get_summary(self):\n",
    "        completion = self.client.chat.completions.create(model=\"gpt-3.5-turbo-1106\",\n",
    "                                                         messages=[{\"role\": \"system\", \"content\": self.role_prompt},\n",
    "                                                                   {\"role\": \"user\", \"content\": self.transcript}])\n",
    "        self.summary = completion.choices[0].message.content\n",
    "        return self.summary\n",
    "\n",
    "    def save_summary_audio(self):\n",
    "        if self.summary is not None:\n",
    "            response = self.client.audio.speech.create(model=\"tts-1\",\n",
    "                                            voice=\"echo\",\n",
    "                                            input=self.summary)\n",
    "            response.stream_to_file(\"output.mp3\")\n",
    "        else:\n",
    "            print(\"Summary is None\")"
   ]
  },
  {
   "cell_type": "code",
   "execution_count": 74,
   "id": "0484fb1d-1d5b-48c0-985c-ac3bb831922e",
   "metadata": {},
   "outputs": [
    {
     "name": "stdout",
     "output_type": "stream",
     "text": [
      "Портников. Аргументы - YouTube\n",
      "США хотят отдать российские деньги Украине | Виталий Портников\n",
      "The White House is considering the confiscation of Russian assets worth $300 billion in favor of Ukraine. This is indicated by a memorandum from the United States National Security Council. The US wants to ensure support from allies in resolving this matter and to prevent Russia from filing numerous lawsuits to impede the allocation of funds for Ukraine's needs and the confiscation of these assets. However, there are concerns about the impact on the US financial system and the potential for authoritarian regimes to shift their money away from US banks. The idea of confiscating assets is gaining support in the US, but it is also a challenge to the Russian President Vladimir Putin, who is already strained due to ongoing aggression against Ukraine. Confiscation of Russian assets could be a response to Russian plans for aggression against other former Soviet republics. Despite potential economic consequences, it could serve as a punishment for Russia's violation of international law. This action may also help Ukraine to strengthen its defense capabilities and undermine Russia's mobilization potential.\n"
     ]
    },
    {
     "name": "stderr",
     "output_type": "stream",
     "text": [
      "C:\\Users\\Artem\\AppData\\Local\\Temp\\ipykernel_15872\\703160167.py:29: DeprecationWarning: Due to a bug, this method doesn't actually stream the response content, `.with_streaming_response.method()` should be used instead\n",
      "  response.stream_to_file(\"output.mp3\")\n"
     ]
    }
   ],
   "source": [
    "channel = YoutubeChannelParser(\"portnikov.argumenty\").parse()\n",
    "print(channel.title)\n",
    "video = channel.videos[5]\n",
    "print(video.title)\n",
    "transcript = VideoTranscript(video).get_transcript()\n",
    "summarizer = TranscriptSummarizer(video, transcript)\n",
    "summary = summarizer.get_summary()\n",
    "print(summary)\n",
    "summarizer.save_summary_audio()"
   ]
  },
  {
   "cell_type": "code",
   "execution_count": null,
   "id": "da1d8003-a2f0-484e-9bda-703814c4baa1",
   "metadata": {},
   "outputs": [],
   "source": [
    "# client = OpenAI()\n",
    "# response = client.speech.create(\n",
    "#     model=\"tts-1\",\n",
    "#     voice=\"echo\",\n",
    "#     input=summary,\n",
    "# )\n",
    "\n",
    "# response.stream_to_file(\"output.mp3\")"
   ]
  }
 ],
 "metadata": {
  "kernelspec": {
   "display_name": "Python 3 (ipykernel)",
   "language": "python",
   "name": "python3"
  },
  "language_info": {
   "codemirror_mode": {
    "name": "ipython",
    "version": 3
   },
   "file_extension": ".py",
   "mimetype": "text/x-python",
   "name": "python",
   "nbconvert_exporter": "python",
   "pygments_lexer": "ipython3",
   "version": "3.11.7"
  }
 },
 "nbformat": 4,
 "nbformat_minor": 5
}
